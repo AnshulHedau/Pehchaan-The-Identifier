{
 "cells": [
  {
   "cell_type": "code",
   "execution_count": null,
   "metadata": {},
   "outputs": [],
   "source": [
    "from numpy import genfromtxt\n",
    "import matplotlib.pyplot as plt\n",
    "from sklearn import svm"
   ]
  },
  {
   "cell_type": "code",
   "execution_count": null,
   "metadata": {},
   "outputs": [],
   "source": [
    "dataset = genfromtxt('item_distance.csv', delimiter=',')\n",
    "dataset"
   ]
  },
  {
   "cell_type": "code",
   "execution_count": null,
   "metadata": {},
   "outputs": [],
   "source": [
    "plt.figure(figsize=(18,6))\n",
    "for i in range(0,20):\n",
    "    plt.plot(dataset_paper[i],'r')\n",
    "    plt.plot(dataset_plastic[i],'g')\n",
    "    plt.plot(dataset_rubber[i],'b')\n",
    "    #plt.plot(dataset_2[i],'b')\n",
    "plt.show()"
   ]
  },
  {
   "cell_type": "code",
   "execution_count": null,
   "metadata": {},
   "outputs": [],
   "source": [
    "temp_data = dataset\n",
    "for i in range(0,20):\n",
    "    print(np.amin(temp_data[i]),np.amax(temp_data[i]),np.ptp(temp_data[i]),\n",
    "      np.percentile(temp_data[i],75),np.percentile(temp_data[i],25),\n",
    "          np.median(temp_data[i]),np.mean(temp_data[i]),np.std(temp_data[i]),\n",
    "          np.var(temp_data[i]),scipy.stats.kurtosis(temp_data[i]),\n",
    "          scipy.stats.skew(temp_data[i]))"
   ]
  },
  {
   "cell_type": "code",
   "execution_count": null,
   "metadata": {},
   "outputs": [],
   "source": [
    "class ListTable(list):\n",
    "    def _repr_html_(self):\n",
    "        html = [\"<table width=100%>\"]\n",
    "        row_count = 0\n",
    "        \n",
    "        for row in self:\n",
    "            row_count = row_count + 1\n",
    "            \n",
    "            if(row_count == 1):\n",
    "                html.append(\"<tr>\")\n",
    "                \n",
    "                for col in row:\n",
    "                    html.append(\"<th align = 'center'>{0}</th>\".format(col))\n",
    "                \n",
    "                html.append(\"</tr>\")\n",
    "            \n",
    "            else:\n",
    "                html.append(\"<tr>\")\n",
    "                col_count = 0\n",
    "                \n",
    "                for col in row:\n",
    "                    if(col_count == 0):\n",
    "                        html.append(\"<th>{0}</th>\".format(col))\n",
    "                    else:\n",
    "                        html.append(\"<td>{0}</td>\".format(col))\n",
    "                        \n",
    "                    col_count = col_count + 1\n",
    "                html.append(\"</tr>\")\n",
    "        \n",
    "        html.append(\"</table>\")\n",
    "        return ''.join(html)"
   ]
  },
  {
   "cell_type": "code",
   "execution_count": null,
   "metadata": {},
   "outputs": [],
   "source": [
    "analysis_condition = ListTable()\n",
    "\n",
    "analysis_condition.append(['Min', 'Max', 'Range', '75%','25%','Median', 'Mean', 'STD', 'Var','Kurtosis','skewness'])\n",
    "for i in range(0,20):\n",
    "    analysis_condition.append([np.amin(temp_data[i]),np.amax(temp_data[i]),np.ptp(temp_data[i]),\n",
    "      np.percentile(temp_data[i],75),np.percentile(temp_data[i],25),\n",
    "          np.median(temp_data[i]),np.mean(temp_data[i]),round(np.std(temp_data[i]),2),\n",
    "          round(np.var(temp_data[i]),2),round(scipy.stats.kurtosis(temp_data[i]),2),\n",
    "          round(scipy.stats.skew(temp_data[i]),2)])\n",
    "analysis_condition"
   ]
  },
  {
   "cell_type": "code",
   "execution_count": null,
   "metadata": {},
   "outputs": [],
   "source": [
    "x_train = analysis_condition[1:]\n",
    "df = pd.DataFrame(x_train_array)\n",
    "df = df.drop([2,7,8,9,10,11], axis=1)"
   ]
  },
  {
   "cell_type": "code",
   "execution_count": null,
   "metadata": {},
   "outputs": [],
   "source": [
    "df.corr()"
   ]
  },
  {
   "cell_type": "code",
   "execution_count": null,
   "metadata": {},
   "outputs": [],
   "source": [
    "x_train_array = df.as_matrix()\n",
    "x_train_array"
   ]
  },
  {
   "cell_type": "code",
   "execution_count": null,
   "metadata": {},
   "outputs": [],
   "source": [
    "y_train_array = []\n",
    "\n",
    "for i in range(0,20):\n",
    "    y_train_array.append(0)\n",
    "for i in range(0,20):   \n",
    "    y_train_array.append(1)\n",
    "for i in range(0,20):   \n",
    "    y_train_array.append(2)\n",
    "x_train_array = np.array(x_train_array)\n",
    "print(x_train.shape)\n",
    "x_train_array = x_train.reshape(x_train.shape[0],6)\n",
    "print(x_train_array.shape)"
   ]
  },
  {
   "cell_type": "code",
   "execution_count": null,
   "metadata": {},
   "outputs": [],
   "source": [
    "clf = svm.SVC(probability=True)\n",
    "clf.fit(x_train_array, y_train_array)"
   ]
  },
  {
   "cell_type": "code",
   "execution_count": null,
   "metadata": {},
   "outputs": [],
   "source": [
    "clf.predict_proba(x_train_array)"
   ]
  }
 ],
 "metadata": {
  "kernelspec": {
   "display_name": "Python 3",
   "language": "python",
   "name": "python3"
  },
  "language_info": {
   "codemirror_mode": {
    "name": "ipython",
    "version": 3
   },
   "file_extension": ".py",
   "mimetype": "text/x-python",
   "name": "python",
   "nbconvert_exporter": "python",
   "pygments_lexer": "ipython3",
   "version": "3.6.4"
  }
 },
 "nbformat": 4,
 "nbformat_minor": 2
}
