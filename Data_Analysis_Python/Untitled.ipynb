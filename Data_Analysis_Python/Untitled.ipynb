{
 "cells": [
  {
   "cell_type": "code",
   "execution_count": 1,
   "metadata": {},
   "outputs": [
    {
     "name": "stdout",
     "output_type": "stream",
     "text": [
      "\n",
      "\n",
      "The available ports are:\n",
      "COM7: Standard Serial over Bluetooth link (COM7) [BTHENUM\\{00001101-0000-1000-8000-00805F9B34FB}_LOCALMFG&005D\\7&2560B1E7&0&30C01B9054D5_C00000000]\n",
      "COM8: Standard Serial over Bluetooth link (COM8) [BTHENUM\\{00001101-0000-1000-8000-00805F9B34FB}_LOCALMFG&0000\\7&2560B1E7&0&000000000000_00000000]\n",
      "COM9: Arduino Uno (COM9) [USB VID:PID=2341:0043 SER=75638303337351E05221 LOCATION=1-6]\n"
     ]
    }
   ],
   "source": [
    "# Importing the required libraries\n",
    "import numpy as np\n",
    "import scipy.signal\n",
    "import serial\n",
    "import serial.tools.list_ports\n",
    "import sys\n",
    "import urllib.request\n",
    "\n",
    "# Viewing all the available ports\n",
    "ports = serial.tools.list_ports.comports()\n",
    "\n",
    "print('\\n\\nThe available ports are:')\n",
    "for port, desc, hwid in sorted(ports):\n",
    "\tprint(\"{}: {} [{}]\".format(port, desc, hwid))"
   ]
  },
  {
   "cell_type": "code",
   "execution_count": 3,
   "metadata": {},
   "outputs": [
    {
     "name": "stdout",
     "output_type": "stream",
     "text": [
      "\n",
      "\n",
      "Press return to start recording data: \n",
      "\n",
      "The recorded values are:  [579, 620, 647, 653, 654, 599, 623, 653, 655, 653, 599, 629, 655, 655, 548, 677, 647, 623, 578, 578, 578, 578, 578, 572, 572, 572, 572, 572, 572, 572, 572, 578, 578, 578, 578, 578, 572, 572, 572, 572, 572, 572, 572, 576, 578, 578, 578, 578, 578, 572, 571, 572, 572, 572, 572, 572, 578, 578, 578, 578, 578, 578, 572, 572, 572, 572, 572, 572, 572, 578, 578, 578, 578, 578, 578, 571, 572, 572, 572, 572, 572, 572, 578, 578, 578, 578, 578, 572, 572, 572, 572, 572, 572, 572, 572, 578, 578, 578, 578, 578, 572, 572, 572, 572, 572, 572, 572, 575, 578, 578, 578, 578, 578, 572, 572, 572, 572, 572, 572, 572, 578, 578, 578, 578, 578, 578, 572, 572, 572, 572, 572, 572, 572, 578, 578, 578, 578, 578, 578, 572, 571, 572, 572, 572, 572, 572, 578, 578, 578, 578, 578, 571, 572, 572, 572, 572, 572, 572, 572, 578, 578, 578, 578, 578, 572, 571, 572, 572, 572, 572, 572, 574, 578, 578, 578, 578, 578, 572, 572, 572, 572, 572, 571, 572, 578, 578, 578, 578, 578, 578, 572, 572, 572, 572, 572, 572, 572, 578, 578, 578]\n",
      "\n",
      "The filtered values are:  [572.0, 578.0, 578.0, 578.0, 578.0, 578.0, 578.0, 578.0, 578.0, 578.0, 578.0, 578.0, 578.0, 578.0, 572.0, 578.0, 578.0, 578.0, 572.0, 572.0, 572.0, 572.0, 572.0, 572.0, 572.0, 572.0, 572.0, 572.0, 572.0, 572.0, 572.0, 572.0, 572.0, 572.0, 572.0, 572.0, 572.0, 572.0, 572.0, 572.0, 572.0, 572.0, 572.0, 572.0, 572.0, 572.0, 572.0, 572.0, 572.0, 572.0, 572.0, 572.0, 572.0, 572.0, 572.0, 572.0, 572.0, 572.0, 572.0, 572.0, 572.0, 572.0, 572.0, 572.0, 572.0, 572.0, 572.0, 572.0, 572.0, 572.0, 572.0, 572.0, 572.0, 572.0, 572.0, 572.0, 572.0, 572.0, 572.0, 572.0, 572.0, 572.0, 572.0, 572.0, 572.0, 572.0, 572.0, 572.0, 572.0, 572.0, 572.0, 572.0, 572.0, 572.0, 572.0, 572.0, 572.0, 572.0, 572.0, 572.0, 572.0, 572.0, 572.0, 572.0, 572.0, 572.0, 572.0, 572.0, 572.0, 572.0, 572.0, 572.0, 572.0, 572.0, 572.0, 572.0, 572.0, 572.0, 572.0, 572.0, 572.0, 572.0, 572.0, 572.0, 572.0, 572.0, 572.0, 572.0, 572.0, 572.0, 572.0, 572.0, 572.0, 572.0, 572.0, 572.0, 572.0, 572.0, 572.0, 572.0, 572.0, 572.0, 572.0, 572.0, 572.0, 572.0, 572.0, 572.0, 572.0, 572.0, 572.0, 572.0, 572.0, 572.0, 572.0, 572.0, 572.0, 572.0, 572.0, 572.0, 572.0, 572.0, 572.0, 572.0, 572.0, 572.0, 572.0, 572.0, 572.0, 572.0, 572.0, 572.0, 572.0, 572.0, 572.0, 572.0, 572.0, 572.0, 572.0, 572.0, 572.0, 572.0, 572.0, 572.0, 572.0, 572.0, 572.0, 572.0, 572.0, 572.0, 572.0, 572.0, 572.0, 572.0, 572.0, 572.0, 572.0, 572.0, 572.0, 572.0]\n",
      "I am here 572.0,572.0,572.0,572.0,572.0,572.0,572.0,572.0,572.0,572.0,572.0,572.0,572.0,572.0,572.0,572.0,572.0,572.0,572.0,572.0,572.0,572.0,572.0,572.0,572.0,572.0,572.0,572.0,572.0,572.0,572.0,572.0,572.0,572.0,572.0,572.0,572.0,572.0,572.0,572.0,572.0,572.0,572.0,572.0,572.0,572.0,572.0,572.0,572.0,572.0,572.0,572.0,572.0,572.0,572.0,572.0,572.0,572.0,572.0,572.0,572.0,572.0,572.0,572.0,572.0,572.0,572.0,572.0,572.0,572.0,572.0,572.0,572.0,572.0,572.0,572.0,572.0,572.0,572.0,572.0,572.0,572.0,572.0,572.0,572.0,572.0,572.0,572.0,572.0,572.0,572.0,572.0,572.0,572.0,572.0,572.0,572.0,572.0,572.0,572.0\n",
      "\n",
      "The parameters of this signal are:  [572.0, 578.0, 6.0, 572.0, 572.0, 572.0, 572.48, 1.63, 2.65, 7.59, 3.1]\n",
      "\n",
      "The web API URL is:  https://pacific-harbor-19774.herokuapp.com/predict?myvar=572.0,572.0,572.0,572.0,572.0,572.0,572.0,572.0,572.0,572.0,572.0,572.0,572.0,572.0,572.0,572.0,572.0,572.0,572.0,572.0,572.0,572.0,572.0,572.0,572.0,572.0,572.0,572.0,572.0,572.0,572.0,572.0,572.0,572.0,572.0,572.0,572.0,572.0,572.0,572.0,572.0,572.0,572.0,572.0,572.0,572.0,572.0,572.0,572.0,572.0,572.0,572.0,572.0,572.0,572.0,572.0,572.0,572.0,572.0,572.0,572.0,572.0,572.0,572.0,572.0,572.0,572.0,572.0,572.0,572.0,572.0,572.0,572.0,572.0,572.0,572.0,572.0,572.0,572.0,572.0,572.0,572.0,572.0,572.0,572.0,572.0,572.0,572.0,572.0,572.0,572.0,572.0,572.0,572.0,572.0,572.0,572.0,572.0,572.0,572.0\n",
      "\n",
      "\n",
      "Press return to start recording data: \n",
      "\n",
      "The recorded values are:  [484, 522, 494, 467, 470, 473, 476, 481, 484, 481, 508, 526, 529, 521, 500, 473, 476, 477, 478, 484, 484, 508, 484, 484, 484, 484, 502, 501, 478, 478, 477, 501, 484, 484, 483, 484, 484, 484, 502, 502, 477, 477, 478, 502, 502, 484, 484, 484, 508, 508, 508, 484, 502, 501, 478, 478, 501, 502, 508, 508, 484, 508, 508, 484, 502, 502, 502, 502, 502, 501, 484, 484, 484, 508, 484, 484, 484, 477, 478, 501, 502, 478, 478, 484, 484, 484, 484, 484, 484, 484, 477, 502, 502, 502, 501, 478, 484, 484, 484, 484, 484, 508, 501, 502, 502, 501, 502, 477, 502, 508, 508, 508, 508, 508, 508, 501, 501, 502, 501, 502, 502, 502, 508, 508, 508, 507, 508, 508, 501, 502, 502, 478, 477, 477, 508, 508, 508, 508, 507, 508, 508, 502, 478, 502, 502, 502, 502, 484, 484, 484, 484, 484, 508, 508, 502, 501, 502, 502, 501, 502, 508, 508, 484, 484, 484, 484, 502, 478, 502, 502, 477, 501, 501, 483, 508, 508, 508, 484, 484, 484, 502, 502, 501, 502, 502, 501, 508, 508, 508, 507, 508, 507, 501, 502, 502, 501, 501, 502, 508, 508]\n",
      "\n",
      "The filtered values are:  [484.0, 502.0, 484.0, 484.0, 484.0, 484.0, 484.0, 484.0, 484.0, 484.0, 502.0, 502.0, 502.0, 502.0, 502.0, 484.0, 484.0, 484.0, 484.0, 484.0, 484.0, 502.0, 484.0, 484.0, 484.0, 484.0, 502.0, 502.0, 484.0, 484.0, 484.0, 502.0, 484.0, 484.0, 484.0, 484.0, 484.0, 484.0, 502.0, 502.0, 484.0, 484.0, 484.0, 502.0, 502.0, 484.0, 484.0, 484.0, 502.0, 502.0, 502.0, 484.0, 502.0, 502.0, 484.0, 484.0, 502.0, 502.0, 502.0, 502.0, 484.0, 502.0, 502.0, 484.0, 502.0, 502.0, 502.0, 502.0, 502.0, 502.0, 484.0, 484.0, 484.0, 502.0, 484.0, 484.0, 484.0, 484.0, 484.0, 502.0, 502.0, 484.0, 484.0, 484.0, 484.0, 484.0, 484.0, 484.0, 484.0, 484.0, 484.0, 502.0, 502.0, 502.0, 502.0, 484.0, 484.0, 484.0, 484.0, 484.0, 484.0, 502.0, 502.0, 502.0, 502.0, 502.0, 502.0, 484.0, 502.0, 502.0, 502.0, 502.0, 502.0, 502.0, 502.0, 502.0, 502.0, 502.0, 502.0, 502.0, 502.0, 502.0, 502.0, 502.0, 502.0, 502.0, 502.0, 502.0, 502.0, 502.0, 502.0, 484.0, 484.0, 484.0, 502.0, 502.0, 502.0, 502.0, 502.0, 502.0, 502.0, 502.0, 484.0, 502.0, 502.0, 502.0, 502.0, 484.0, 484.0, 484.0, 484.0, 484.0, 502.0, 502.0, 502.0, 502.0, 502.0, 502.0, 502.0, 502.0, 502.0, 502.0, 484.0, 484.0, 484.0, 484.0, 502.0, 484.0, 502.0, 502.0, 484.0, 502.0, 502.0, 484.0, 502.0, 502.0, 502.0, 484.0, 484.0, 484.0, 502.0, 502.0, 502.0, 502.0, 502.0, 502.0, 502.0, 502.0, 502.0, 502.0, 502.0, 502.0, 502.0, 502.0, 502.0, 502.0, 502.0, 502.0, 502.0, 502.0]\n",
      "I am here 484.0,502.0,502.0,502.0,502.0,502.0,502.0,484.0,502.0,502.0,502.0,502.0,502.0,502.0,502.0,502.0,502.0,502.0,502.0,502.0,502.0,502.0,502.0,502.0,502.0,502.0,502.0,502.0,502.0,502.0,502.0,484.0,484.0,484.0,502.0,502.0,502.0,502.0,502.0,502.0,502.0,502.0,484.0,502.0,502.0,502.0,502.0,484.0,484.0,484.0,484.0,484.0,502.0,502.0,502.0,502.0,502.0,502.0,502.0,502.0,502.0,502.0,484.0,484.0,484.0,484.0,502.0,484.0,502.0,502.0,484.0,502.0,502.0,484.0,502.0,502.0,502.0,484.0,484.0,484.0,502.0,502.0,502.0,502.0,502.0,502.0,502.0,502.0,502.0,502.0,502.0,502.0,502.0,502.0,502.0,502.0,502.0,502.0,502.0,502.0\n",
      "\n",
      "The parameters of this signal are:  [484.0, 502.0, 18.0, 502.0, 484.0, 502.0, 494.53, 8.87, 78.66, -1.88, -0.35]\n",
      "\n",
      "The web API URL is:  https://pacific-harbor-19774.herokuapp.com/predict?myvar=484.0,502.0,502.0,502.0,502.0,502.0,502.0,484.0,502.0,502.0,502.0,502.0,502.0,502.0,502.0,502.0,502.0,502.0,502.0,502.0,502.0,502.0,502.0,502.0,502.0,502.0,502.0,502.0,502.0,502.0,502.0,484.0,484.0,484.0,502.0,502.0,502.0,502.0,502.0,502.0,502.0,502.0,484.0,502.0,502.0,502.0,502.0,484.0,484.0,484.0,484.0,484.0,502.0,502.0,502.0,502.0,502.0,502.0,502.0,502.0,502.0,502.0,484.0,484.0,484.0,484.0,502.0,484.0,502.0,502.0,484.0,502.0,502.0,484.0,502.0,502.0,502.0,484.0,484.0,484.0,502.0,502.0,502.0,502.0,502.0,502.0,502.0,502.0,502.0,502.0,502.0,502.0,502.0,502.0,502.0,502.0,502.0,502.0,502.0,502.0\n",
      "\n",
      "\n",
      "Press return to start recording data: \n"
     ]
    },
    {
     "ename": "SerialException",
     "evalue": "could not open port '/COM9': PermissionError(13, 'Access is denied.', None, 5)",
     "output_type": "error",
     "traceback": [
      "\u001b[1;31m---------------------------------------------------------------------------\u001b[0m",
      "\u001b[1;31mSerialException\u001b[0m                           Traceback (most recent call last)",
      "\u001b[1;32m<ipython-input-3-e122ba0c9d6b>\u001b[0m in \u001b[0;36m<module>\u001b[1;34m()\u001b[0m\n\u001b[0;32m      7\u001b[0m \u001b[1;33m\u001b[0m\u001b[0m\n\u001b[0;32m      8\u001b[0m         \u001b[1;31m# Declaring a Serial object\u001b[0m\u001b[1;33m\u001b[0m\u001b[1;33m\u001b[0m\u001b[0m\n\u001b[1;32m----> 9\u001b[1;33m         \u001b[0marduino_serial\u001b[0m \u001b[1;33m=\u001b[0m \u001b[0mserial\u001b[0m\u001b[1;33m.\u001b[0m\u001b[0mSerial\u001b[0m\u001b[1;33m(\u001b[0m\u001b[0mCOM\u001b[0m\u001b[1;33m,\u001b[0m \u001b[0mBAUD\u001b[0m\u001b[1;33m,\u001b[0m \u001b[0mtimeout\u001b[0m \u001b[1;33m=\u001b[0m \u001b[1;36m.1\u001b[0m\u001b[1;33m)\u001b[0m\u001b[1;33m\u001b[0m\u001b[0m\n\u001b[0m\u001b[0;32m     10\u001b[0m         \u001b[0minput_values\u001b[0m \u001b[1;33m=\u001b[0m \u001b[1;33m[\u001b[0m\u001b[1;33m]\u001b[0m\u001b[1;33m\u001b[0m\u001b[0m\n\u001b[0;32m     11\u001b[0m \u001b[1;33m\u001b[0m\u001b[0m\n",
      "\u001b[1;32mC:\\ProgramData\\Anaconda3\\lib\\site-packages\\serial\\serialwin32.py\u001b[0m in \u001b[0;36m__init__\u001b[1;34m(self, *args, **kwargs)\u001b[0m\n\u001b[0;32m     29\u001b[0m         \u001b[0mself\u001b[0m\u001b[1;33m.\u001b[0m\u001b[0m_overlapped_read\u001b[0m \u001b[1;33m=\u001b[0m \u001b[1;32mNone\u001b[0m\u001b[1;33m\u001b[0m\u001b[0m\n\u001b[0;32m     30\u001b[0m         \u001b[0mself\u001b[0m\u001b[1;33m.\u001b[0m\u001b[0m_overlapped_write\u001b[0m \u001b[1;33m=\u001b[0m \u001b[1;32mNone\u001b[0m\u001b[1;33m\u001b[0m\u001b[0m\n\u001b[1;32m---> 31\u001b[1;33m         \u001b[0msuper\u001b[0m\u001b[1;33m(\u001b[0m\u001b[0mSerial\u001b[0m\u001b[1;33m,\u001b[0m \u001b[0mself\u001b[0m\u001b[1;33m)\u001b[0m\u001b[1;33m.\u001b[0m\u001b[0m__init__\u001b[0m\u001b[1;33m(\u001b[0m\u001b[1;33m*\u001b[0m\u001b[0margs\u001b[0m\u001b[1;33m,\u001b[0m \u001b[1;33m**\u001b[0m\u001b[0mkwargs\u001b[0m\u001b[1;33m)\u001b[0m\u001b[1;33m\u001b[0m\u001b[0m\n\u001b[0m\u001b[0;32m     32\u001b[0m \u001b[1;33m\u001b[0m\u001b[0m\n\u001b[0;32m     33\u001b[0m     \u001b[1;32mdef\u001b[0m \u001b[0mopen\u001b[0m\u001b[1;33m(\u001b[0m\u001b[0mself\u001b[0m\u001b[1;33m)\u001b[0m\u001b[1;33m:\u001b[0m\u001b[1;33m\u001b[0m\u001b[0m\n",
      "\u001b[1;32mC:\\ProgramData\\Anaconda3\\lib\\site-packages\\serial\\serialutil.py\u001b[0m in \u001b[0;36m__init__\u001b[1;34m(self, port, baudrate, bytesize, parity, stopbits, timeout, xonxoff, rtscts, write_timeout, dsrdtr, inter_byte_timeout, exclusive, **kwargs)\u001b[0m\n\u001b[0;32m    238\u001b[0m \u001b[1;33m\u001b[0m\u001b[0m\n\u001b[0;32m    239\u001b[0m         \u001b[1;32mif\u001b[0m \u001b[0mport\u001b[0m \u001b[1;32mis\u001b[0m \u001b[1;32mnot\u001b[0m \u001b[1;32mNone\u001b[0m\u001b[1;33m:\u001b[0m\u001b[1;33m\u001b[0m\u001b[0m\n\u001b[1;32m--> 240\u001b[1;33m             \u001b[0mself\u001b[0m\u001b[1;33m.\u001b[0m\u001b[0mopen\u001b[0m\u001b[1;33m(\u001b[0m\u001b[1;33m)\u001b[0m\u001b[1;33m\u001b[0m\u001b[0m\n\u001b[0m\u001b[0;32m    241\u001b[0m \u001b[1;33m\u001b[0m\u001b[0m\n\u001b[0;32m    242\u001b[0m     \u001b[1;31m#  -  -  -  -  -  -  -  -  -  -  -  -  -  -  -  -  -  -  -  -  -  -  -  -\u001b[0m\u001b[1;33m\u001b[0m\u001b[1;33m\u001b[0m\u001b[0m\n",
      "\u001b[1;32mC:\\ProgramData\\Anaconda3\\lib\\site-packages\\serial\\serialwin32.py\u001b[0m in \u001b[0;36mopen\u001b[1;34m(self)\u001b[0m\n\u001b[0;32m     60\u001b[0m         \u001b[1;32mif\u001b[0m \u001b[0mself\u001b[0m\u001b[1;33m.\u001b[0m\u001b[0m_port_handle\u001b[0m \u001b[1;33m==\u001b[0m \u001b[0mwin32\u001b[0m\u001b[1;33m.\u001b[0m\u001b[0mINVALID_HANDLE_VALUE\u001b[0m\u001b[1;33m:\u001b[0m\u001b[1;33m\u001b[0m\u001b[0m\n\u001b[0;32m     61\u001b[0m             \u001b[0mself\u001b[0m\u001b[1;33m.\u001b[0m\u001b[0m_port_handle\u001b[0m \u001b[1;33m=\u001b[0m \u001b[1;32mNone\u001b[0m    \u001b[1;31m# 'cause __del__ is called anyway\u001b[0m\u001b[1;33m\u001b[0m\u001b[0m\n\u001b[1;32m---> 62\u001b[1;33m             \u001b[1;32mraise\u001b[0m \u001b[0mSerialException\u001b[0m\u001b[1;33m(\u001b[0m\u001b[1;34m\"could not open port {!r}: {!r}\"\u001b[0m\u001b[1;33m.\u001b[0m\u001b[0mformat\u001b[0m\u001b[1;33m(\u001b[0m\u001b[0mself\u001b[0m\u001b[1;33m.\u001b[0m\u001b[0mportstr\u001b[0m\u001b[1;33m,\u001b[0m \u001b[0mctypes\u001b[0m\u001b[1;33m.\u001b[0m\u001b[0mWinError\u001b[0m\u001b[1;33m(\u001b[0m\u001b[1;33m)\u001b[0m\u001b[1;33m)\u001b[0m\u001b[1;33m)\u001b[0m\u001b[1;33m\u001b[0m\u001b[0m\n\u001b[0m\u001b[0;32m     63\u001b[0m \u001b[1;33m\u001b[0m\u001b[0m\n\u001b[0;32m     64\u001b[0m         \u001b[1;32mtry\u001b[0m\u001b[1;33m:\u001b[0m\u001b[1;33m\u001b[0m\u001b[0m\n",
      "\u001b[1;31mSerialException\u001b[0m: could not open port '/COM9': PermissionError(13, 'Access is denied.', None, 5)"
     ]
    }
   ],
   "source": [
    "# Initialising the COM and BAUD rate\n",
    "COM = '/COM9'\n",
    "BAUD = 9600\n",
    "\n",
    "while True:\n",
    "\tinput_value = input('\\n\\nPress return to start recording data: ')\n",
    "\t\n",
    "\t# Declaring a Serial object\n",
    "\tarduino_serial = serial.Serial(COM, BAUD, timeout = .1)\n",
    "\tinput_values = []\n",
    "\t\n",
    "\t# Getting the data from serial port and adding it an array\n",
    "\twhile len(input_values) < 200:\n",
    "\t\tvalue = str(arduino_serial.readline().decode().strip('\\r\\n'))\n",
    "\t\t\n",
    "\t\ttry:\n",
    "\t\t\tif len(value) > 0 and int(value):\n",
    "\t\t\t\tinput_values.append(int(value))\n",
    "\t\texcept:\n",
    "\t\t\tcontinue\n",
    "\t\n",
    "\tprint('\\nThe recorded values are: ', input_values)\n",
    "\t\n",
    "\t# Filtering of the input values\n",
    "\tfiltered_values = []\n",
    "\t\n",
    "\tmean_value = np.mean(input_values)\n",
    "\tvalue_25 = np.percentile(input_values, 25)\n",
    "\tvalue_75 = np.percentile(input_values, 75)\n",
    "\t\n",
    "\tfor value in input_values:\n",
    "\t\tfiltered_values.append(value_75 if value > mean_value else value_25)\n",
    "\tprint('\\nThe filtered values are: ', filtered_values)\n",
    "\t\n",
    "\turl_parameter = \"\"\n",
    "\tfor i in range(100,len(filtered_values)):\n",
    "\t\tif(i<len(filtered_values)-1):\n",
    "\t\t\turl_parameter += str(filtered_values[i])\n",
    "\t\t\turl_parameter += \",\"\n",
    "\t\telse:\n",
    "\t\t\turl_parameter += str(filtered_values[i])\n",
    "\tprint(\"I am here\",url_parameter)\n",
    "\t                         \n",
    "\t# Extraction of the signal parameters\n",
    "\textracted_parameters = [np.amin(filtered_values), np.amax(filtered_values),\n",
    "\t\t\t\t\t\t\tnp.ptp(filtered_values), np.percentile(filtered_values, 75),\n",
    "\t\t\t\t\t\t\tnp.percentile(filtered_values, 25), np.median(filtered_values),\n",
    "\t\t\t\t\t\t\tnp.mean(filtered_values), round(np.std(filtered_values),2),\n",
    "\t\t\t\t\t\t\tround(np.var(filtered_values),2), round(scipy.stats.kurtosis(filtered_values),2),\n",
    "\t\t\t\t\t\t\tround(scipy.stats.skew(filtered_values),2)]\n",
    "\t\t\t\t\t\t\t\n",
    "\tprint('\\nThe parameters of this signal are: ', extracted_parameters)\n",
    "\t\n",
    "\t# Calling the web API\n",
    "\t#web_api_url = \"https://pacific-harbor-19774.herokuapp.com/predict?myvar=\" + str(extracted_parameters[0]) + \",\" + str(extracted_parameters[1]) + \",\" + str(extracted_parameters[2]) + \",\" + str(extracted_parameters[3]) + \",\" + str(extracted_parameters[4]) + \",\" + str(extracted_parameters[5]) + \",\" + str(extracted_parameters[6]) + \",\" + str(extracted_parameters[7]) + \",\" + str(extracted_parameters[8]) + \",\" + str(extracted_parameters[9]) + \",\" + str(extracted_parameters[10])\n",
    "\tweb_api_url = \"https://pacific-harbor-19774.herokuapp.com/predict?myvar=\" + str(url_parameter)\n",
    "\tprint('\\nThe web API URL is: ', web_api_url)\n",
    "\turllib.request.urlopen(web_api_url)\n",
    "\t\n",
    "\t# Closing the Serial connection\n",
    "\tarduino_serial.close()"
   ]
  },
  {
   "cell_type": "code",
   "execution_count": null,
   "metadata": {},
   "outputs": [],
   "source": [
    "arduino_serial.close()"
   ]
  },
  {
   "cell_type": "code",
   "execution_count": 4,
   "metadata": {},
   "outputs": [
    {
     "name": "stdout",
     "output_type": "stream",
     "text": [
      "\n",
      "The parameters of this signal are:  [483, 490, 7, 490.0, 483.0, 489.0, 486.47, 3.19, 10.15, -1.92, -0.06]\n"
     ]
    }
   ],
   "source": [
    "filtered_values = [490,490,483,483,483,483,483,484,489,489,490,490,490,489,490,484,483,483,483,483,483,490,490,489,489,490,489,490,483,483,483,483,484,483,490,489,489,490,490,489,489,483,484,483,484,483,483,490,490,490,490,489,489,489,483,483,483,483,483,483,489,489,490,490,489,489,483,483,483,483,483,484,489,489,489,490,489,490,489,483,483,484,483,483,483,489,489,489,490,490,490,490,483,484,484,483,483,483,490,489]\n",
    "extracted_parameters = [np.amin(filtered_values), np.amax(filtered_values),\n",
    "\t\t\t\t\t\t\tnp.ptp(filtered_values), np.percentile(filtered_values, 75),\n",
    "\t\t\t\t\t\t\tnp.percentile(filtered_values, 25), np.median(filtered_values),\n",
    "\t\t\t\t\t\t\tnp.mean(filtered_values), round(np.std(filtered_values),2),\n",
    "\t\t\t\t\t\t\tround(np.var(filtered_values),2), round(scipy.stats.kurtosis(filtered_values),2),\n",
    "\t\t\t\t\t\t\tround(scipy.stats.skew(filtered_values),2)]\n",
    "\t\t\t\t\t\t\t\n",
    "print('\\nThe parameters of this signal are: ', extracted_parameters)"
   ]
  },
  {
   "cell_type": "code",
   "execution_count": 5,
   "metadata": {},
   "outputs": [
    {
     "data": {
      "text/plain": [
       "[478.0, 484.0, 6.0, 484.0, 484.0, 484.0, 483.76, 1.18, 1.38, 20.04, -4.69]"
      ]
     },
     "execution_count": 5,
     "metadata": {},
     "output_type": "execute_result"
    }
   ],
   "source": [
    "[478.0, 484.0, 6.0, 484.0, 484.0, 484.0, 483.76, 1.18, 1.38, 20.04, -4.69]"
   ]
  },
  {
   "cell_type": "code",
   "execution_count": null,
   "metadata": {},
   "outputs": [],
   "source": []
  },
  {
   "cell_type": "code",
   "execution_count": null,
   "metadata": {},
   "outputs": [],
   "source": []
  },
  {
   "cell_type": "code",
   "execution_count": null,
   "metadata": {},
   "outputs": [],
   "source": []
  }
 ],
 "metadata": {
  "kernelspec": {
   "display_name": "Python 3",
   "language": "python",
   "name": "python3"
  },
  "language_info": {
   "codemirror_mode": {
    "name": "ipython",
    "version": 3
   },
   "file_extension": ".py",
   "mimetype": "text/x-python",
   "name": "python",
   "nbconvert_exporter": "python",
   "pygments_lexer": "ipython3",
   "version": "3.6.4"
  }
 },
 "nbformat": 4,
 "nbformat_minor": 2
}
