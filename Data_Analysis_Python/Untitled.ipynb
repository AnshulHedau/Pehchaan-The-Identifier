{
 "cells": [
  {
   "cell_type": "code",
   "execution_count": null,
   "metadata": {},
   "outputs": [],
   "source": [
    "# Importing the required libraries\n",
    "import numpy as np\n",
    "import scipy.signal\n",
    "import serial\n",
    "import serial.tools.list_ports\n",
    "import sys\n",
    "import urllib.request\n",
    "\n",
    "# Viewing all the available ports\n",
    "ports = serial.tools.list_ports.comports()\n",
    "\n",
    "print('\\n\\nThe available ports are:')\n",
    "for port, desc, hwid in sorted(ports):\n",
    "\tprint(\"{}: {} [{}]\".format(port, desc, hwid))"
   ]
  },
  {
   "cell_type": "code",
   "execution_count": 1,
   "metadata": {},
   "outputs": [
    {
     "ename": "NameError",
     "evalue": "name 'arduino' is not defined",
     "output_type": "error",
     "traceback": [
      "\u001b[1;31m---------------------------------------------------------------------------\u001b[0m",
      "\u001b[1;31mNameError\u001b[0m                                 Traceback (most recent call last)",
      "\u001b[1;32m<ipython-input-1-d2c79e68ced8>\u001b[0m in \u001b[0;36m<module>\u001b[1;34m()\u001b[0m\n\u001b[0;32m      6\u001b[0m     \u001b[0mcount\u001b[0m \u001b[1;33m=\u001b[0m \u001b[1;36m0\u001b[0m\u001b[1;33m\u001b[0m\u001b[0m\n\u001b[0;32m      7\u001b[0m     \u001b[1;32mwhile\u001b[0m \u001b[0mcount\u001b[0m\u001b[1;33m<\u001b[0m\u001b[1;36m100\u001b[0m\u001b[1;33m:\u001b[0m\u001b[1;33m\u001b[0m\u001b[0m\n\u001b[1;32m----> 8\u001b[1;33m         \u001b[0mrawdata\u001b[0m\u001b[1;33m.\u001b[0m\u001b[0mappend\u001b[0m\u001b[1;33m(\u001b[0m\u001b[0mint\u001b[0m\u001b[1;33m(\u001b[0m\u001b[0marduino\u001b[0m\u001b[1;33m.\u001b[0m\u001b[0mreadline\u001b[0m\u001b[1;33m(\u001b[0m\u001b[1;33m)\u001b[0m\u001b[1;33m)\u001b[0m\u001b[1;33m)\u001b[0m\u001b[1;33m\u001b[0m\u001b[0m\n\u001b[0m\u001b[0;32m      9\u001b[0m         \u001b[0mcount\u001b[0m\u001b[1;33m+=\u001b[0m\u001b[1;36m1\u001b[0m\u001b[1;33m\u001b[0m\u001b[0m\n\u001b[0;32m     10\u001b[0m     \u001b[0mdataset\u001b[0m\u001b[1;33m.\u001b[0m\u001b[0mappend\u001b[0m\u001b[1;33m(\u001b[0m\u001b[0mrawdata\u001b[0m\u001b[1;33m)\u001b[0m\u001b[1;33m\u001b[0m\u001b[0m\n",
      "\u001b[1;31mNameError\u001b[0m: name 'arduino' is not defined"
     ]
    }
   ],
   "source": [
    "dataset = []\n",
    "data_count = 0\n",
    "\n",
    "while data_count<11:\n",
    "    rawdata = []\n",
    "    count = 0\n",
    "    while count<100:\n",
    "        rawdata.append(int(arduino.readline()))\n",
    "        count+=1\n",
    "    dataset.append(rawdata)\n",
    "    data_count+=1\n",
    "\n",
    "# Filtering of the input values\n",
    "filtered_values = []\n",
    "\n",
    "mean_value = np.mean(dataset[10])\n",
    "value_25 = np.percentile(dataset[10], 25)\n",
    "value_75 = np.percentile(dataset[10], 75)\n",
    "\n",
    "for value in dataset[0]:\n",
    "    filtered_values.append(value_75 if value > mean_value else value_25)\n",
    "    \n",
    "url_parameter = \"\"\n",
    "for i in range(0,len(filtered_values)):\n",
    "    if(i<len(filtered_values)-1):\n",
    "        url_parameter += str(filtered_values[i])\n",
    "        url_parameter += \",\"\n",
    "    else:\n",
    "        url_parameter += str(filtered_values[i])\n",
    "# print(\"I am here\",url_parameter)\n",
    "\n",
    "\n",
    "\n",
    "# Extraction of the signal parameters\n",
    "extracted_parameters = [np.amin(filtered_values), np.amax(filtered_values),\n",
    "                        np.ptp(filtered_values), np.percentile(filtered_values, 75),\n",
    "                        np.percentile(filtered_values, 25), np.median(filtered_values),\n",
    "                        np.mean(filtered_values), round(np.std(filtered_values),2),\n",
    "                        round(np.var(filtered_values),2), round(scipy.stats.kurtosis(filtered_values),2),\n",
    "                        round(scipy.stats.skew(filtered_values),2)]\n",
    "\n",
    "print('\\nThe parameters of this signal are: ', extracted_parameters)\n",
    "\n",
    "# Calling the web API\n",
    "#web_api_url = \"https://pacific-harbor-19774.herokuapp.com/predict?myvar=\" + str(extracted_parameters[0]) + \",\" + str(extracted_parameters[1]) + \",\" + str(extracted_parameters[2]) + \",\" + str(extracted_parameters[3]) + \",\" + str(extracted_parameters[4]) + \",\" + str(extracted_parameters[5]) + \",\" + str(extracted_parameters[6]) + \",\" + str(extracted_parameters[7]) + \",\" + str(extracted_parameters[8]) + \",\" + str(extracted_parameters[9]) + \",\" + str(extracted_parameters[10])\n",
    "web_api_url = \"https://pacific-harbor-19774.herokuapp.com/predict?myvar=\" + str(url_parameter)\n",
    "print('\\nThe web API URL is: ', web_api_url)\n",
    "print(str(urllib.request.urlopen(web_api_url).read()[18:22]))\n",
    "print('\\nThe filtered values are: ', filtered_values)"
   ]
  },
  {
   "cell_type": "code",
   "execution_count": null,
   "metadata": {},
   "outputs": [],
   "source": [
    "# Initialising the COM and BAUD rate\n",
    "COM = '/COM9'\n",
    "BAUD = 9600\n",
    "\n",
    "while True:\n",
    "\tinput_value = input('\\n\\nPress return to start recording data: ')\n",
    "\t\n",
    "\t# Declaring a Serial object\n",
    "\tarduino_serial = serial.Serial(COM, BAUD, timeout = .1)\n",
    "\tinput_values = []\n",
    "\t\n",
    "\t# Getting the data from serial port and adding it an array\n",
    "\twhile len(input_values) < 200:\n",
    "\t\tvalue = str(arduino_serial.readline().decode().strip('\\r\\n'))\n",
    "\t\t\n",
    "\t\ttry:\n",
    "\t\t\tif len(value) > 0 and int(value):\n",
    "\t\t\t\tinput_values.append(int(value))\n",
    "\t\texcept:\n",
    "\t\t\tcontinue\n",
    "\t\n",
    "\tprint('\\nThe recorded values are: ', input_values)\n",
    "\t\n",
    "\t# Filtering of the input values\n",
    "\tfiltered_values = []\n",
    "\t\n",
    "\tmean_value = np.mean(input_values)\n",
    "\tvalue_25 = np.percentile(input_values, 25)\n",
    "\tvalue_75 = np.percentile(input_values, 75)\n",
    "\t\n",
    "\tfor value in input_values:\n",
    "\t\tfiltered_values.append(value_75 if value > mean_value else value_25)\n",
    "\tprint('\\nThe filtered values are: ', filtered_values)\n",
    "\t\n",
    "\turl_parameter = \"\"\n",
    "\tfor i in range(100,len(filtered_values)):\n",
    "\t\tif(i<len(filtered_values)-1):\n",
    "\t\t\turl_parameter += str(filtered_values[i])\n",
    "\t\t\turl_parameter += \",\"\n",
    "\t\telse:\n",
    "\t\t\turl_parameter += str(filtered_values[i])\n",
    "# \tprint(\"I am here\",url_parameter)\n",
    "\t                         \n",
    "\t# Extraction of the signal parameters\n",
    "\textracted_parameters = [np.amin(filtered_values), np.amax(filtered_values),\n",
    "\t\t\t\t\t\t\tnp.ptp(filtered_values), np.percentile(filtered_values, 75),\n",
    "\t\t\t\t\t\t\tnp.percentile(filtered_values, 25), np.median(filtered_values),\n",
    "\t\t\t\t\t\t\tnp.mean(filtered_values), round(np.std(filtered_values),2),\n",
    "\t\t\t\t\t\t\tround(np.var(filtered_values),2), round(scipy.stats.kurtosis(filtered_values),2),\n",
    "\t\t\t\t\t\t\tround(scipy.stats.skew(filtered_values),2)]\n",
    "\t\t\t\t\t\t\t\n",
    "\tprint('\\nThe parameters of this signal are: ', extracted_parameters)\n",
    "\t\n",
    "\t# Calling the web API\n",
    "\t#web_api_url = \"https://pacific-harbor-19774.herokuapp.com/predict?myvar=\" + str(extracted_parameters[0]) + \",\" + str(extracted_parameters[1]) + \",\" + str(extracted_parameters[2]) + \",\" + str(extracted_parameters[3]) + \",\" + str(extracted_parameters[4]) + \",\" + str(extracted_parameters[5]) + \",\" + str(extracted_parameters[6]) + \",\" + str(extracted_parameters[7]) + \",\" + str(extracted_parameters[8]) + \",\" + str(extracted_parameters[9]) + \",\" + str(extracted_parameters[10])\n",
    "\tweb_api_url = \"https://pacific-harbor-19774.herokuapp.com/predict?myvar=\" + str(url_parameter)\n",
    "\tprint('\\nThe web API URL is: ', web_api_url)\n",
    "\turllib.request.urlopen(web_api_url)\n",
    "\t\n",
    "\t# Closing the Serial connection\n",
    "\tarduino_serial.close()"
   ]
  },
  {
   "cell_type": "code",
   "execution_count": 2,
   "metadata": {},
   "outputs": [
    {
     "ename": "NameError",
     "evalue": "name 'arduino_serial' is not defined",
     "output_type": "error",
     "traceback": [
      "\u001b[1;31m---------------------------------------------------------------------------\u001b[0m",
      "\u001b[1;31mNameError\u001b[0m                                 Traceback (most recent call last)",
      "\u001b[1;32m<ipython-input-2-e865d5637ccf>\u001b[0m in \u001b[0;36m<module>\u001b[1;34m()\u001b[0m\n\u001b[1;32m----> 1\u001b[1;33m \u001b[0marduino_serial\u001b[0m\u001b[1;33m.\u001b[0m\u001b[0mclose\u001b[0m\u001b[1;33m(\u001b[0m\u001b[1;33m)\u001b[0m\u001b[1;33m\u001b[0m\u001b[0m\n\u001b[0m",
      "\u001b[1;31mNameError\u001b[0m: name 'arduino_serial' is not defined"
     ]
    }
   ],
   "source": [
    "arduino_serial.close()"
   ]
  },
  {
   "cell_type": "code",
   "execution_count": null,
   "metadata": {},
   "outputs": [],
   "source": [
    "filtered_values = [490,490,483,483,483,483,483,484,489,489,490,490,490,489,490,484,483,483,483,483,483,490,490,489,489,490,489,490,483,483,483,483,484,483,490,489,489,490,490,489,489,483,484,483,484,483,483,490,490,490,490,489,489,489,483,483,483,483,483,483,489,489,490,490,489,489,483,483,483,483,483,484,489,489,489,490,489,490,489,483,483,484,483,483,483,489,489,489,490,490,490,490,483,484,484,483,483,483,490,489]\n",
    "extracted_parameters = [np.amin(filtered_values), np.amax(filtered_values),\n",
    "\t\t\t\t\t\t\tnp.ptp(filtered_values), np.percentile(filtered_values, 75),\n",
    "\t\t\t\t\t\t\tnp.percentile(filtered_values, 25), np.median(filtered_values),\n",
    "\t\t\t\t\t\t\tnp.mean(filtered_values), round(np.std(filtered_values),2),\n",
    "\t\t\t\t\t\t\tround(np.var(filtered_values),2), round(scipy.stats.kurtosis(filtered_values),2),\n",
    "\t\t\t\t\t\t\tround(scipy.stats.skew(filtered_values),2)]\n",
    "\t\t\t\t\t\t\t\n",
    "print('\\nThe parameters of this signal are: ', extracted_parameters)"
   ]
  },
  {
   "cell_type": "code",
   "execution_count": null,
   "metadata": {},
   "outputs": [],
   "source": [
    "[478.0, 484.0, 6.0, 484.0, 484.0, 484.0, 483.76, 1.18, 1.38, 20.04, -4.69]"
   ]
  },
  {
   "cell_type": "code",
   "execution_count": null,
   "metadata": {},
   "outputs": [],
   "source": []
  },
  {
   "cell_type": "code",
   "execution_count": null,
   "metadata": {},
   "outputs": [],
   "source": []
  },
  {
   "cell_type": "code",
   "execution_count": null,
   "metadata": {},
   "outputs": [],
   "source": []
  }
 ],
 "metadata": {
  "kernelspec": {
   "display_name": "Python 3",
   "language": "python",
   "name": "python3"
  },
  "language_info": {
   "codemirror_mode": {
    "name": "ipython",
    "version": 3
   },
   "file_extension": ".py",
   "mimetype": "text/x-python",
   "name": "python",
   "nbconvert_exporter": "python",
   "pygments_lexer": "ipython3",
   "version": "3.6.4"
  }
 },
 "nbformat": 4,
 "nbformat_minor": 2
}
