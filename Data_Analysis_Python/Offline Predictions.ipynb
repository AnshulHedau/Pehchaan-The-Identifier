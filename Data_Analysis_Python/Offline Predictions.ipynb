{
 "cells": [
  {
   "cell_type": "code",
   "execution_count": 4,
   "metadata": {},
   "outputs": [],
   "source": [
    "import csv\n",
    "import serial\n",
    "import numpy as np\n",
    "import urllib.request \n",
    "\n",
    "import scipy.signal\n",
    "from sklearn.externals import joblib"
   ]
  },
  {
   "cell_type": "code",
   "execution_count": null,
   "metadata": {},
   "outputs": [],
   "source": [
    "try:\n",
    "    arduino = serial.Serial(\"/COM9\",timeout=1)\n",
    "    print(\"The port has been successfully loaded.\")\n",
    "except:\n",
    "    print(\"Please check the port.\")"
   ]
  },
  {
   "cell_type": "code",
   "execution_count": null,
   "metadata": {},
   "outputs": [],
   "source": [
    "dataset = []\n",
    "data_count = 0\n",
    "\n",
    "while data_count<11:\n",
    "    rawdata = []\n",
    "    count = 0\n",
    "    while count<100:\n",
    "        rawdata.append(int(arduino.readline()))\n",
    "        count+=1\n",
    "    dataset.append(rawdata)\n",
    "    data_count+=1\n",
    "\n",
    "filtered_values = []\n",
    "\n",
    "mean_value = np.mean(dataset[10])\n",
    "value_25 = np.percentile(dataset[10], 25)\n",
    "value_75 = np.percentile(dataset[10], 75)\n",
    "\n",
    "for value in dataset[0]:\n",
    "    filtered_values.append(value_75 if value > mean_value else value_25)\n",
    "    \n",
    "extracted_parameters = [np.amin(filtered_values), np.amax(filtered_values),\n",
    "                        np.ptp(filtered_values), np.percentile(filtered_values, 75),\n",
    "                        np.percentile(filtered_values, 25), np.median(filtered_values),\n",
    "                        np.mean(filtered_values), round(np.std(filtered_values),2),\n",
    "                        round(np.var(filtered_values),2), round(scipy.stats.kurtosis(filtered_values),2),\n",
    "                        round(scipy.stats.skew(filtered_values),2)]"
   ]
  },
  {
   "cell_type": "code",
   "execution_count": 17,
   "metadata": {},
   "outputs": [
    {
     "name": "stdout",
     "output_type": "stream",
     "text": [
      "[490.0, 496.0, 6.0, 496.0, 496.0, 496.0, 495.22]\n"
     ]
    }
   ],
   "source": [
    "print('\\nThe parameters of this signal are: ', extracted_parameters)"
   ]
  },
  {
   "cell_type": "code",
   "execution_count": 18,
   "metadata": {},
   "outputs": [
    {
     "name": "stdout",
     "output_type": "stream",
     "text": [
      "{'ceramics': 0.0390936227134829, 'plastic': 0.9253597476988202, 'wood': 0.03554662958769686}\n"
     ]
    }
   ],
   "source": [
    "inputarray = extracted_parameters[:7]\n",
    "clf = joblib.load('model.pkl')\n",
    "prediction = clf.predict([inputarray])\n",
    "percentage_predictions = clf.predict_proba([inputarray])\n",
    "\n",
    "percentage_predictions = np.array(percentage_predictions.tolist())\n",
    "\n",
    "print({'ceramics':percentage_predictions[0][0],\n",
    "             'plastic':percentage_predictions[0][1],'wood':percentage_predictions[0][2]})"
   ]
  },
  {
   "cell_type": "code",
   "execution_count": null,
   "metadata": {},
   "outputs": [],
   "source": [
    "arduino.close()"
   ]
  }
 ],
 "metadata": {
  "kernelspec": {
   "display_name": "Python 3",
   "language": "python",
   "name": "python3"
  },
  "language_info": {
   "codemirror_mode": {
    "name": "ipython",
    "version": 3
   },
   "file_extension": ".py",
   "mimetype": "text/x-python",
   "name": "python",
   "nbconvert_exporter": "python",
   "pygments_lexer": "ipython3",
   "version": "3.7.2"
  }
 },
 "nbformat": 4,
 "nbformat_minor": 2
}
