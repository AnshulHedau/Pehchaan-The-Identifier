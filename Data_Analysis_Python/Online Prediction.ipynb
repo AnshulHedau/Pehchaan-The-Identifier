{
 "cells": [
  {
   "cell_type": "code",
   "execution_count": 1,
   "metadata": {},
   "outputs": [],
   "source": [
    "import csv\n",
    "import serial\n",
    "import numpy as np\n",
    "import urllib.request \n",
    "\n",
    "import scipy.signal"
   ]
  },
  {
   "cell_type": "code",
   "execution_count": null,
   "metadata": {},
   "outputs": [],
   "source": [
    "try:\n",
    "    arduino = serial.Serial(\"/COM9\",timeout=1)\n",
    "    print(\"The port has been successfully loaded.\")\n",
    "except:\n",
    "    print(\"Please check the port.\")"
   ]
  },
  {
   "cell_type": "code",
   "execution_count": null,
   "metadata": {},
   "outputs": [],
   "source": [
    "dataset = []\n",
    "data_count = 0\n",
    "\n",
    "while data_count<11:\n",
    "    rawdata = []\n",
    "    count = 0\n",
    "    while count<100:\n",
    "        rawdata.append(int(arduino.readline()))\n",
    "        count+=1\n",
    "    dataset.append(rawdata)\n",
    "    data_count+=1\n",
    "\n",
    "# Filtering of the input values\n",
    "filtered_values = []\n",
    "\n",
    "mean_value = np.mean(dataset[10])\n",
    "value_25 = np.percentile(dataset[10], 25)\n",
    "value_75 = np.percentile(dataset[10], 75)\n",
    "\n",
    "for value in dataset[0]:\n",
    "    filtered_values.append(value_75 if value > mean_value else value_25)\n",
    "    \n",
    "url_parameter = \"\"\n",
    "for i in range(0,len(filtered_values)):\n",
    "    if(i<len(filtered_values)-1):\n",
    "        url_parameter += str(filtered_values[i])\n",
    "        url_parameter += \",\"\n",
    "    else:\n",
    "        url_parameter += str(filtered_values[i])\n",
    "\n",
    "\n",
    "# Extraction of the signal parameters\n",
    "extracted_parameters = [np.amin(filtered_values), np.amax(filtered_values),\n",
    "                        np.ptp(filtered_values), np.percentile(filtered_values, 75),\n",
    "                        np.percentile(filtered_values, 25), np.median(filtered_values),\n",
    "                        np.mean(filtered_values), round(np.std(filtered_values),2),\n",
    "                        round(np.var(filtered_values),2), round(scipy.stats.kurtosis(filtered_values),2),\n",
    "                        round(scipy.stats.skew(filtered_values),2)]\n",
    "\n",
    "print('\\nThe parameters of this signal are: ', extracted_parameters)\n",
    "\n",
    "# Calling the web API\n",
    "web_api_url = \"https://pacific-harbor-19774.herokuapp.com/predict?myvar=\" + str(url_parameter)\n",
    "print('\\nThe web API URL is: ', web_api_url)\n",
    "print(str(urllib.request.urlopen(web_api_url).read()[18:22]))\n",
    "print('\\nThe filtered values are: ', filtered_values)"
   ]
  },
  {
   "cell_type": "code",
   "execution_count": null,
   "metadata": {},
   "outputs": [],
   "source": [
    "arduino.close()"
   ]
  }
 ],
 "metadata": {
  "kernelspec": {
   "display_name": "Python 3",
   "language": "python",
   "name": "python3"
  },
  "language_info": {
   "codemirror_mode": {
    "name": "ipython",
    "version": 3
   },
   "file_extension": ".py",
   "mimetype": "text/x-python",
   "name": "python",
   "nbconvert_exporter": "python",
   "pygments_lexer": "ipython3",
   "version": "3.6.4"
  }
 },
 "nbformat": 4,
 "nbformat_minor": 2
}
